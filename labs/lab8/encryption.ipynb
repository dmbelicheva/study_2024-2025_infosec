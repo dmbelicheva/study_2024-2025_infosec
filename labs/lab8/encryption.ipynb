{
 "cells": [
  {
   "cell_type": "code",
   "execution_count": 2,
   "id": "697655bd-5313-483d-9760-13222acf430a",
   "metadata": {},
   "outputs": [],
   "source": [
    "import random"
   ]
  },
  {
   "cell_type": "code",
   "execution_count": 4,
   "id": "909b5416-5b16-4009-b93f-13a0e8e10bda",
   "metadata": {},
   "outputs": [
    {
     "name": "stdout",
     "output_type": "stream",
     "text": [
      "Расшифрованный текст:\n"
     ]
    },
    {
     "data": {
      "text/plain": [
       "\"ВЗап'(~\\x04\\x04Ј\\r}Гp\\x11 Г\\n\\x05&\""
      ]
     },
     "metadata": {},
     "output_type": "display_data"
    },
    {
     "name": "stdout",
     "output_type": "stream",
     "text": [
      "Введите продолжение текста: \n"
     ]
    },
    {
     "name": "stdin",
     "output_type": "stream",
     "text": [
      " ад\n"
     ]
    },
    {
     "data": {
      "text/plain": [
       "'ВЗапад~\\x04\\x04Ј\\r}Гp\\x11 Г\\n\\x05&'"
      ]
     },
     "metadata": {},
     "output_type": "display_data"
    },
    {
     "name": "stdout",
     "output_type": "stream",
     "text": [
      "Расшифрованный текст:\n"
     ]
    },
    {
     "data": {
      "text/plain": [
       "'ВСевер~\\x04\\x04Ј\\r}Гp\\x11 Г\\n\\x05&'"
      ]
     },
     "metadata": {},
     "output_type": "display_data"
    },
    {
     "name": "stdout",
     "output_type": "stream",
     "text": [
      "Введите продолжение текста: \n"
     ]
    },
    {
     "name": "stdin",
     "output_type": "stream",
     "text": [
      " ный\n"
     ]
    },
    {
     "data": {
      "text/plain": [
       "'ВСеверныйЈ\\r}Гp\\x11 Г\\n\\x05&'"
      ]
     },
     "metadata": {},
     "output_type": "display_data"
    },
    {
     "name": "stdout",
     "output_type": "stream",
     "text": [
      "Расшифрованный текст:\n"
     ]
    },
    {
     "data": {
      "text/plain": [
       "'ВЗападныйЈ\\r}Гp\\x11 Г\\n\\x05&'"
      ]
     },
     "metadata": {},
     "output_type": "display_data"
    },
    {
     "name": "stdout",
     "output_type": "stream",
     "text": [
      "Введите продолжение текста: \n"
     ]
    },
    {
     "name": "stdin",
     "output_type": "stream",
     "text": [
      " Филиал\n"
     ]
    },
    {
     "data": {
      "text/plain": [
       "'ВЗападныйФилиал Г\\n\\x05&'"
      ]
     },
     "metadata": {},
     "output_type": "display_data"
    },
    {
     "name": "stdout",
     "output_type": "stream",
     "text": [
      "Расшифрованный текст:\n"
     ]
    },
    {
     "data": {
      "text/plain": [
       "'ВСеверныйФилиал Г\\n\\x05&'"
      ]
     },
     "metadata": {},
     "output_type": "display_data"
    },
    {
     "name": "stdout",
     "output_type": "stream",
     "text": [
      "Введите продолжение текста: \n"
     ]
    },
    {
     "name": "stdin",
     "output_type": "stream",
     "text": [
      " Банка\n"
     ]
    },
    {
     "data": {
      "text/plain": [
       "'ВСеверныйФилиалБанка'"
      ]
     },
     "metadata": {},
     "output_type": "display_data"
    },
    {
     "name": "stdout",
     "output_type": "stream",
     "text": [
      "Расшифрованный текст:\n"
     ]
    },
    {
     "data": {
      "text/plain": [
       "'ВЗападныйФилиалБанка'"
      ]
     },
     "metadata": {},
     "output_type": "display_data"
    }
   ],
   "source": [
    "def key_gen(text):\n",
    "    cirillic = [chr(i) for i in range(1040,1104)]\n",
    "    symbols = [chr(i) for i in range(32,65)]\n",
    "    all_characters = cirillic + symbols\n",
    "    return ''.join([random.choice(all_characters) for i in range(len(text))])\n",
    "\n",
    "def xor(text,key):\n",
    "    return ''.join([chr(ord(a)^ord(b)) for a,b in zip(text,key)])\n",
    "\n",
    "P1 = \"ВЗападныйФилиалБанка\"\n",
    "P2 = \"ВСеверныйФилиалБанка\"\n",
    "key = key_gen(P1)\n",
    "C1 = xor(P1, key)\n",
    "C2 = xor(P2, key)\n",
    "\n",
    "fragment = \"ВСев\"\n",
    "\n",
    "msg2 = fragment\n",
    "c1, c2 = C1, C2\n",
    "length = len(msg2)\n",
    "while length <= len(P1):\n",
    "    C12 = xor(C1[:length], C2[:length])\n",
    "    msg1 = xor(C12, msg2) \n",
    "    print(\"Расшифрованный текст:\")\n",
    "    display(msg1 + c1[length:])\n",
    "    if length >= len(P1) - 1:\n",
    "            break\n",
    "    print(\"Введите продолжение текста: \")\n",
    "    msg1 += input()\n",
    "    length = len(msg1)\n",
    "    display(msg1 + c1[length:])\n",
    "    \n",
    "    msg1, msg2 = msg2, msg1\n",
    "    c1, c2 = c2, c1"
   ]
  },
  {
   "cell_type": "code",
   "execution_count": null,
   "id": "40ac2ca3-56c3-4334-aad2-fe9284a52339",
   "metadata": {},
   "outputs": [],
   "source": []
  }
 ],
 "metadata": {
  "kernelspec": {
   "display_name": "Python 3 (ipykernel)",
   "language": "python",
   "name": "python3"
  },
  "language_info": {
   "codemirror_mode": {
    "name": "ipython",
    "version": 3
   },
   "file_extension": ".py",
   "mimetype": "text/x-python",
   "name": "python",
   "nbconvert_exporter": "python",
   "pygments_lexer": "ipython3",
   "version": "3.11.5"
  }
 },
 "nbformat": 4,
 "nbformat_minor": 5
}
