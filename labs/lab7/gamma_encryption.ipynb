{
 "cells": [
  {
   "cell_type": "code",
   "execution_count": 56,
   "id": "8cd3655e-c79d-4d07-bdff-af0143bf85c1",
   "metadata": {},
   "outputs": [],
   "source": [
    "import random"
   ]
  },
  {
   "cell_type": "code",
   "execution_count": 57,
   "id": "c14f8cba-ee70-4052-97c2-2478c0a06b7f",
   "metadata": {},
   "outputs": [],
   "source": [
    "def key_gen(text):\n",
    "    cirillic = [chr(i) for i in range(1040,1104)]\n",
    "    symbols = [chr(i) for i in range(32,65)]\n",
    "    all_characters = cirillic + symbols\n",
    "    return ''.join([random.choice(all_characters) for i in range(len(text))])"
   ]
  },
  {
   "cell_type": "code",
   "execution_count": 58,
   "id": "5bf9cf31-ca48-4eee-a942-5c52f35325fd",
   "metadata": {},
   "outputs": [],
   "source": [
    "def xor(text,key):\n",
    "    return ''.join(chr(ord(a)^ord(b)) for a,b in zip(text,key))"
   ]
  },
  {
   "cell_type": "code",
   "execution_count": 59,
   "id": "3d6ee114-c173-4226-b9c3-3d4422dfaf68",
   "metadata": {},
   "outputs": [],
   "source": [
    "def part_key_gen(fragment, encrypted_text):\n",
    "    start_key = xor(fragment,encrypted_text[:len(fragment)])\n",
    "    remaining_length = len(encrypted_text) - len(fragment)\n",
    "    key_rest = key_gen(' ' * remaining_length)\n",
    "    return start_key + key_rest"
   ]
  },
  {
   "cell_type": "code",
   "execution_count": 60,
   "id": "e09b84f4-3908-4581-bede-73ea9e6e9844",
   "metadata": {},
   "outputs": [
    {
     "data": {
      "text/plain": [
       "'0а\"Т%+дЩШ0тд ЯыьаСНГФХ'"
      ]
     },
     "execution_count": 60,
     "metadata": {},
     "output_type": "execute_result"
    }
   ],
   "source": [
    "text = 'С Новым годом, друзья!'\n",
    "key = key_gen(text)\n",
    "key"
   ]
  },
  {
   "cell_type": "code",
   "execution_count": 74,
   "id": "40ecccc9-10af-43b2-bcba-d467f0e1bf1e",
   "metadata": {},
   "outputs": [],
   "source": [
    "encrypted_text = xor(text,key)"
   ]
  },
  {
   "cell_type": "code",
   "execution_count": 75,
   "id": "55593dca-31d2-4e62-8ea2-715441a0f537",
   "metadata": {},
   "outputs": [
    {
     "data": {
      "text/plain": [
       "'С Новым годом, друзья!'"
      ]
     },
     "execution_count": 75,
     "metadata": {},
     "output_type": "execute_result"
    }
   ],
   "source": [
    "decrypted_text = xor(encrypted_text, key)\n",
    "decrypted_text"
   ]
  },
  {
   "cell_type": "code",
   "execution_count": 76,
   "id": "d74afd98-6f9f-4480-92f2-3d1556e71ecb",
   "metadata": {
    "scrolled": true
   },
   "outputs": [
    {
     "data": {
      "text/plain": [
       "'0а\"Т%+дЭ9ы Ъэо<щП8шСАэ'"
      ]
     },
     "execution_count": 76,
     "metadata": {},
     "output_type": "execute_result"
    }
   ],
   "source": [
    "fragment = 'С Новым'\n",
    "partial_key = part_key_gen(fragment, encrypted_text)\n",
    "partial_key"
   ]
  },
  {
   "cell_type": "code",
   "execution_count": 77,
   "id": "10b1c880-ebd6-482b-b9ad-cbac4185d6e4",
   "metadata": {},
   "outputs": [],
   "source": [
    "decrypted_guess_text = xor(encrypted_text,partial_key)"
   ]
  },
  {
   "cell_type": "code",
   "execution_count": 80,
   "id": "4939e275-e6af-45e1-9add-e0e773e2421b",
   "metadata": {},
   "outputs": [
    {
     "name": "stdout",
     "output_type": "stream",
     "text": [
      "Ключ:\n"
     ]
    },
    {
     "data": {
      "text/plain": [
       "'0а\"Т%+дЩШ0тд ЯыьаСНГФХ'"
      ]
     },
     "execution_count": 80,
     "metadata": {},
     "output_type": "execute_result"
    }
   ],
   "source": [
    "print(\"Ключ:\")\n",
    "key"
   ]
  },
  {
   "cell_type": "code",
   "execution_count": 78,
   "id": "dacb0405-cfae-40f0-9ca7-f1462fd6dc37",
   "metadata": {},
   "outputs": [
    {
     "name": "stdout",
     "output_type": "stream",
     "text": [
      "Шифротекст:\n"
     ]
    },
    {
     "data": {
      "text/plain": [
       "'БАп\\x1cЗѠ\\x08Љ\\x1bЎv\\nМЃѫxpb*_kЄ'"
      ]
     },
     "execution_count": 78,
     "metadata": {},
     "output_type": "execute_result"
    }
   ],
   "source": [
    "print(\"Шифротекст:\")\n",
    "encrypted_text"
   ]
  },
  {
   "cell_type": "code",
   "execution_count": 79,
   "id": "c2552c15-45ef-45a1-bcf1-56c71bdd1f70",
   "metadata": {},
   "outputs": [
    {
     "name": "stdout",
     "output_type": "stream",
     "text": [
      "Частично расшифрованный текст:\n"
     ]
    },
    {
     "data": {
      "text/plain": [
       "'С Новым$\"EVРQ=їбѯZѢѾѻI'"
      ]
     },
     "execution_count": 79,
     "metadata": {},
     "output_type": "execute_result"
    }
   ],
   "source": [
    "print(\"Частично расшифрованный текст:\")\n",
    "decrypted_guess_text"
   ]
  },
  {
   "cell_type": "code",
   "execution_count": null,
   "id": "3aac0f97-e87f-42f9-882f-43f9e71d98b0",
   "metadata": {},
   "outputs": [],
   "source": []
  }
 ],
 "metadata": {
  "kernelspec": {
   "display_name": "Python 3 (ipykernel)",
   "language": "python",
   "name": "python3"
  },
  "language_info": {
   "codemirror_mode": {
    "name": "ipython",
    "version": 3
   },
   "file_extension": ".py",
   "mimetype": "text/x-python",
   "name": "python",
   "nbconvert_exporter": "python",
   "pygments_lexer": "ipython3",
   "version": "3.11.5"
  }
 },
 "nbformat": 4,
 "nbformat_minor": 5
}
